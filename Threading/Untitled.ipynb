{
 "cells": [
  {
   "cell_type": "code",
   "execution_count": 4,
   "metadata": {},
   "outputs": [
    {
     "name": "stderr",
     "output_type": "stream",
     "text": [
      "01:38:13: Main    : before creating thread\n",
      "01:38:13: Main    : before running thread\n",
      "01:38:13: Thread 1: starting\n",
      "01:38:13: Main    : wait for the thread to finish\n",
      "01:38:13: Main    : all done\n",
      "01:38:15: Thread 1: finishing\n"
     ]
    }
   ],
   "source": [
    "import logging\n",
    "import threading\n",
    "import time\n",
    "\n",
    "def thread_function(name):\n",
    "    logging.info(\"Thread %s: starting\", name)\n",
    "    time.sleep(2)\n",
    "    logging.info(\"Thread %s: finishing\", name)\n",
    "\n",
    "if __name__ == \"__main__\":\n",
    "    format = \"%(asctime)s: %(message)s\"\n",
    "    logging.basicConfig(format=format, level=logging.INFO,\n",
    "                        datefmt=\"%H:%M:%S\")\n",
    "\n",
    "    logging.info(\"Main    : before creating thread\")\n",
    "    x = threading.Thread(target=thread_function, args=(1,))\n",
    "    logging.info(\"Main    : before running thread\")\n",
    "    x.start()\n",
    "    logging.info(\"Main    : wait for the thread to finish\")\n",
    "    # x.join()\n",
    "    logging.info(\"Main    : all done\")"
   ]
  },
  {
   "cell_type": "code",
   "execution_count": 10,
   "metadata": {},
   "outputs": [
    {
     "name": "stderr",
     "output_type": "stream",
     "text": [
      "01:39:46: Main    : before creating thread\n",
      "01:39:46: Main    : before running thread\n",
      "01:39:46: Thread 1: starting\n",
      "01:39:46: Main    : wait for the thread to finish\n",
      "01:39:46: Main    : all done\n",
      "01:39:51: Thread 1: finishing\n"
     ]
    }
   ],
   "source": [
    "import logging\n",
    "import threading\n",
    "import time\n",
    "\n",
    "def thread_function(name):\n",
    "    logging.info(\"Thread %s: starting\", name)\n",
    "    time.sleep(5)\n",
    "    logging.info(\"Thread %s: finishing\", name)\n",
    "\n",
    "if __name__ == \"__main__\":\n",
    "    format = \"%(asctime)s: %(message)s\"\n",
    "    logging.basicConfig(format=format, level=logging.INFO,\n",
    "                        datefmt=\"%H:%M:%S\")\n",
    "\n",
    "    logging.info(\"Main    : before creating thread\")\n",
    "    x = threading.Thread(target=thread_function, args=(1,), daemon=True)\n",
    "    logging.info(\"Main    : before running thread\")\n",
    "    x.start()\n",
    "    logging.info(\"Main    : wait for the thread to finish\")\n",
    "    # x.join()\n",
    "    logging.info(\"Main    : all done\")\n"
   ]
  }
 ],
 "metadata": {
  "kernelspec": {
   "display_name": "Python 3",
   "language": "python",
   "name": "python3"
  },
  "language_info": {
   "codemirror_mode": {
    "name": "ipython",
    "version": 3
   },
   "file_extension": ".py",
   "mimetype": "text/x-python",
   "name": "python",
   "nbconvert_exporter": "python",
   "pygments_lexer": "ipython3",
   "version": "3.8.5"
  }
 },
 "nbformat": 4,
 "nbformat_minor": 4
}
